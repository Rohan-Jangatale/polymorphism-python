{
  "nbformat": 4,
  "nbformat_minor": 0,
  "metadata": {
    "colab": {
      "provenance": []
    },
    "kernelspec": {
      "name": "python3",
      "display_name": "Python 3"
    },
    "language_info": {
      "name": "python"
    }
  },
  "cells": [
    {
      "cell_type": "code",
      "execution_count": null,
      "metadata": {
        "id": "Im-SsJyzkhrh"
      },
      "outputs": [],
      "source": [
        "class maharashtra:\n",
        "  def __init__(self,capital,region):\n",
        "    self.capital=capital\n",
        "    self.region=region\n",
        "\n",
        "  def speak(self):\n",
        "    print(\"Marathi\")\n",
        "class karanataka:\n",
        "  def __init__(self,capital,region):\n",
        "    self.capital=capital\n",
        "    self.region=region\n",
        "\n",
        "  def speak(self):\n",
        "    print(\"kannad\")\n",
        "\n"
      ]
    },
    {
      "cell_type": "code",
      "source": [
        "m1=maharashtra(\"mumbai\",\"west\")\n",
        "k1=karanataka(\"banglore\",\"south\")"
      ],
      "metadata": {
        "id": "AOl5lA5Rqf88"
      },
      "execution_count": null,
      "outputs": []
    },
    {
      "cell_type": "code",
      "source": [
        "m1.capital"
      ],
      "metadata": {
        "colab": {
          "base_uri": "https://localhost:8080/",
          "height": 36
        },
        "id": "CFTMaq8Qq3We",
        "outputId": "36acea77-46b5-4baf-a2ee-f27f03decee0"
      },
      "execution_count": null,
      "outputs": [
        {
          "output_type": "execute_result",
          "data": {
            "text/plain": [
              "'mumbai'"
            ],
            "application/vnd.google.colaboratory.intrinsic+json": {
              "type": "string"
            }
          },
          "metadata": {},
          "execution_count": 6
        }
      ]
    },
    {
      "cell_type": "code",
      "source": [
        "k1.region"
      ],
      "metadata": {
        "colab": {
          "base_uri": "https://localhost:8080/",
          "height": 36
        },
        "id": "MhZ24Aoeq4uu",
        "outputId": "aa20ca00-4362-489d-92c8-cba5f37ce4c7"
      },
      "execution_count": null,
      "outputs": [
        {
          "output_type": "execute_result",
          "data": {
            "text/plain": [
              "'south'"
            ],
            "application/vnd.google.colaboratory.intrinsic+json": {
              "type": "string"
            }
          },
          "metadata": {},
          "execution_count": 7
        }
      ]
    },
    {
      "cell_type": "code",
      "source": [
        "m1.region"
      ],
      "metadata": {
        "colab": {
          "base_uri": "https://localhost:8080/",
          "height": 36
        },
        "id": "oTcCbr1dq-Q0",
        "outputId": "ccef9c9d-9a83-45f0-ed80-014f89e1cae8"
      },
      "execution_count": null,
      "outputs": [
        {
          "output_type": "execute_result",
          "data": {
            "text/plain": [
              "'west'"
            ],
            "application/vnd.google.colaboratory.intrinsic+json": {
              "type": "string"
            }
          },
          "metadata": {},
          "execution_count": 8
        }
      ]
    },
    {
      "cell_type": "code",
      "source": [
        "k1.speak()"
      ],
      "metadata": {
        "colab": {
          "base_uri": "https://localhost:8080/"
        },
        "id": "0F9E1qjBrALK",
        "outputId": "e6dd5bc6-dbbe-4ddb-86eb-1b206438ed2e"
      },
      "execution_count": null,
      "outputs": [
        {
          "output_type": "stream",
          "name": "stdout",
          "text": [
            "kannad\n"
          ]
        }
      ]
    },
    {
      "cell_type": "code",
      "source": [
        "m1.speak()"
      ],
      "metadata": {
        "colab": {
          "base_uri": "https://localhost:8080/"
        },
        "id": "JtSSWu8xrCxV",
        "outputId": "67241e6e-ed05-4cc0-9982-1d489f7ad96f"
      },
      "execution_count": null,
      "outputs": [
        {
          "output_type": "stream",
          "name": "stdout",
          "text": [
            "Marathi\n"
          ]
        }
      ]
    },
    {
      "cell_type": "code",
      "source": [
        "k1.capital"
      ],
      "metadata": {
        "colab": {
          "base_uri": "https://localhost:8080/",
          "height": 36
        },
        "id": "gvVGTLb0rGtL",
        "outputId": "752f695b-f1c2-44af-c870-dfcc84c7e498"
      },
      "execution_count": null,
      "outputs": [
        {
          "output_type": "execute_result",
          "data": {
            "text/plain": [
              "'banglore'"
            ],
            "application/vnd.google.colaboratory.intrinsic+json": {
              "type": "string"
            }
          },
          "metadata": {},
          "execution_count": 12
        }
      ]
    },
    {
      "cell_type": "code",
      "source": [
        "l=[1,2,3,4]\n",
        "s={1,2,3,4}"
      ],
      "metadata": {
        "id": "uM3N-qbIrJVz"
      },
      "execution_count": null,
      "outputs": []
    },
    {
      "cell_type": "code",
      "source": [
        "s.pop()"
      ],
      "metadata": {
        "colab": {
          "base_uri": "https://localhost:8080/"
        },
        "id": "1vdLTI8csM1c",
        "outputId": "dd5688df-d4e2-44f0-a7bc-6cf733296761"
      },
      "execution_count": null,
      "outputs": [
        {
          "output_type": "execute_result",
          "data": {
            "text/plain": [
              "1"
            ]
          },
          "metadata": {},
          "execution_count": 14
        }
      ]
    },
    {
      "cell_type": "code",
      "source": [
        "l.pop()"
      ],
      "metadata": {
        "colab": {
          "base_uri": "https://localhost:8080/"
        },
        "id": "091El5NEsOI2",
        "outputId": "a7e05857-b2cc-4b72-9bb6-500b04b53e97"
      },
      "execution_count": null,
      "outputs": [
        {
          "output_type": "execute_result",
          "data": {
            "text/plain": [
              "4"
            ]
          },
          "metadata": {},
          "execution_count": 15
        }
      ]
    },
    {
      "cell_type": "code",
      "source": [
        "l.index(3)"
      ],
      "metadata": {
        "colab": {
          "base_uri": "https://localhost:8080/"
        },
        "id": "M49JHikHsP1m",
        "outputId": "769984a4-46fb-4324-bf4c-ae66d6c67f8b"
      },
      "execution_count": null,
      "outputs": [
        {
          "output_type": "execute_result",
          "data": {
            "text/plain": [
              "2"
            ]
          },
          "metadata": {},
          "execution_count": 17
        }
      ]
    },
    {
      "cell_type": "code",
      "source": [
        "class paschim_maharashtra:\n",
        "  def __init__(self,location,speciality):\n",
        "   self.location=location\n",
        "   self.speciality=speciality\n",
        "  def slang(self):\n",
        "    print(\" vishay sampla\")\n",
        "class kokan:\n",
        "  def __init__(self,location,speciality):\n",
        "   self.location=location\n",
        "   self.speciality=speciality\n",
        "  def slang(self):\n",
        "    print(\" vishay sampla\")\n"
      ],
      "metadata": {
        "id": "I-zKYKAPsyHt"
      },
      "execution_count": null,
      "outputs": []
    },
    {
      "cell_type": "code",
      "source": [
        "p1=paschim_maharashtra(\"southwest\",\"wrestling\")\n",
        "r1=kokan(\"coastal\",\"nature\")"
      ],
      "metadata": {
        "id": "5p7e7qdWwNTH"
      },
      "execution_count": null,
      "outputs": []
    },
    {
      "cell_type": "code",
      "source": [
        "\n",
        "p1.speciality"
      ],
      "metadata": {
        "colab": {
          "base_uri": "https://localhost:8080/",
          "height": 36
        },
        "id": "qAeipBf6wprn",
        "outputId": "250e473a-adbc-4821-9d1f-2350cfcc56c4"
      },
      "execution_count": null,
      "outputs": [
        {
          "output_type": "execute_result",
          "data": {
            "text/plain": [
              "'wrestling'"
            ],
            "application/vnd.google.colaboratory.intrinsic+json": {
              "type": "string"
            }
          },
          "metadata": {},
          "execution_count": 29
        }
      ]
    },
    {
      "cell_type": "code",
      "source": [
        "r1.speciality"
      ],
      "metadata": {
        "colab": {
          "base_uri": "https://localhost:8080/",
          "height": 36
        },
        "id": "HaCUGFasw15r",
        "outputId": "2556d7b4-d41e-40ca-e87d-2fdfacfe304a"
      },
      "execution_count": null,
      "outputs": [
        {
          "output_type": "execute_result",
          "data": {
            "text/plain": [
              "'nature'"
            ],
            "application/vnd.google.colaboratory.intrinsic+json": {
              "type": "string"
            }
          },
          "metadata": {},
          "execution_count": 26
        }
      ]
    },
    {
      "cell_type": "code",
      "source": [
        "r1.location"
      ],
      "metadata": {
        "colab": {
          "base_uri": "https://localhost:8080/",
          "height": 36
        },
        "id": "cSlNkFG2w5tL",
        "outputId": "babeb4c0-0fbd-4fcf-c2bf-4097d3d1327e"
      },
      "execution_count": null,
      "outputs": [
        {
          "output_type": "execute_result",
          "data": {
            "text/plain": [
              "'coastal'"
            ],
            "application/vnd.google.colaboratory.intrinsic+json": {
              "type": "string"
            }
          },
          "metadata": {},
          "execution_count": 27
        }
      ]
    },
    {
      "cell_type": "code",
      "source": [
        "p1.location"
      ],
      "metadata": {
        "colab": {
          "base_uri": "https://localhost:8080/",
          "height": 36
        },
        "id": "w5Oja_t3w9df",
        "outputId": "be1eb233-e00a-496c-c98a-9281a46f48e7"
      },
      "execution_count": null,
      "outputs": [
        {
          "output_type": "execute_result",
          "data": {
            "text/plain": [
              "'southwest'"
            ],
            "application/vnd.google.colaboratory.intrinsic+json": {
              "type": "string"
            }
          },
          "metadata": {},
          "execution_count": 28
        }
      ]
    },
    {
      "cell_type": "code",
      "source": [
        "p1.slang()"
      ],
      "metadata": {
        "colab": {
          "base_uri": "https://localhost:8080/"
        },
        "id": "w5RbWI_pxA_Q",
        "outputId": "4b2796e6-ae8f-4672-a4d1-c5007464838a"
      },
      "execution_count": null,
      "outputs": [
        {
          "output_type": "stream",
          "name": "stdout",
          "text": [
            " vishay sampla\n"
          ]
        }
      ]
    },
    {
      "cell_type": "code",
      "source": [
        "r1.slang()"
      ],
      "metadata": {
        "colab": {
          "base_uri": "https://localhost:8080/"
        },
        "id": "FFQwgQ4_xE_T",
        "outputId": "98b05ae6-d617-467c-8d75-58782a9edd2e"
      },
      "execution_count": null,
      "outputs": [
        {
          "output_type": "stream",
          "name": "stdout",
          "text": [
            " vishay sampla\n"
          ]
        }
      ]
    },
    {
      "cell_type": "code",
      "source": [],
      "metadata": {
        "id": "0wGHWhxsxHQc"
      },
      "execution_count": null,
      "outputs": []
    }
  ]
}